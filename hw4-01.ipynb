{
 "cells": [
  {
   "cell_type": "code",
   "execution_count": 2,
   "metadata": {},
   "outputs": [],
   "source": [
    "%matplotlib inline\n",
    "import numpy as np\n",
    "import matplotlib.pyplot as plt\n",
    "import pandas as pd\n",
    "import scipy.stats as sp\n",
    "import math\n",
    "from helper import preprocess_data\n",
    "\n",
    "def readData(filename) :\n",
    "    data = pd.read_csv(filename, skipinitialspace=True,header=None)\n",
    "    return [d for d in data.itertuples(index=False, name=None)]"
   ]
  },
  {
   "cell_type": "code",
   "execution_count": 4,
   "metadata": {},
   "outputs": [],
   "source": [
    "data_cat = readData(\"hw4_cat.txt\")\n",
    "mtx_cat = np.reshape(data_cat, (64,500))\n",
    "\n",
    "data_grass = readData(\"hw4_grass.txt\")\n",
    "mtx_grass = np.reshape(data_grass, (64,500))\n",
    "\n",
    "Y = plt.imread(\"cat_grass.png\")\n",
    "Y = preprocess_data(Y)\n",
    "Y = np.matrix(Y)\n",
    "\n",
    "cat_mean = np.mean(data_cat,1)\n",
    "cat_mean = np.reshape(cat_mean, (len(cat_mean),1))\n",
    "cat_mean = np.matrix(cat_mean)\n",
    "\n",
    "grass_mean = np.mean(data_grass,1)\n",
    "grass_mean = np.reshape(grass_mean, (len(grass_mean),1))\n",
    "grass_mean = np.matrix(grass_mean)\n",
    "\n",
    "cat_cov = np.cov(data_cat)\n",
    "cat_cov = np.matrix(cat_cov)\n",
    "\n",
    "grass_cov = np.cov(data_grass)\n",
    "grass_cov = np.matrix(grass_cov)"
   ]
  },
  {
   "cell_type": "code",
   "execution_count": 5,
   "metadata": {},
   "outputs": [
    {
     "name": "stdout",
     "output_type": "stream",
     "text": [
      "AxesImage(54,36;334.8x217.44)\n"
     ]
    },
    {
     "data": {
      "image/png": "[encoded data removed]",
      "text/plain": [
       "<Figure size 432x288 with 1 Axes>"
      ]
     },
     "metadata": {
      "needs_background": "light"
     },
     "output_type": "display_data"
    }
   ],
   "source": [
    "cat_det = np.linalg.det(cat_cov)\n",
    "grass_det = np.linalg.det(grass_cov)\n",
    "\n",
    "output = []\n",
    "for i in range(187500):\n",
    "    yk = Y[:,i]\n",
    "    yk = np.reshape(yk,(len(yk),1))\n",
    "    yk = np.matrix(yk)\n",
    "\n",
    "    cat_p = -32*math.log(2*math.pi)-(1/2)*math.log(cat_det)-(1/2)*(yk-cat_mean).T*cat_cov.I*(yk-cat_mean)+math.log(1/2)\n",
    "    grass_p = -32*math.log(2*math.pi)-(1/2)*math.log(grass_det)-(1/2)*(yk-grass_mean).T*grass_cov.I*(yk-grass_mean)+math.log(1/2)\n",
    "    if cat_p > grass_p:\n",
    "        output.append(1)\n",
    "    else:\n",
    "        output.append(0)\n",
    "    i = i + 1\n",
    "\n",
    "output = np.reshape(output,(375,500))\n",
    "print(plt.imshow(output))\n",
    "plt.imsave(\"hw4_01.png\", output, format = \"png\")  "
   ]
  }
 ],
 "metadata": {
  "kernelspec": {
   "display_name": "Python 3",
   "language": "python",
   "name": "python3"
  },
  "language_info": {
   "codemirror_mode": {
    "name": "ipython",
    "version": 3
   },
   "file_extension": ".py",
   "mimetype": "text/x-python",
   "name": "python",
   "nbconvert_exporter": "python",
   "pygments_lexer": "ipython3",
   "version": "3.7.4"
  }
 },
 "nbformat": 4,
 "nbformat_minor": 2
}
