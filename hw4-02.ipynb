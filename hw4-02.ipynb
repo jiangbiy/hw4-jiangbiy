{
 "cells": [
  {
   "cell_type": "code",
   "execution_count": 1,
   "metadata": {},
   "outputs": [],
   "source": [
    "%matplotlib inline\n",
    "import numpy as np\n",
    "import matplotlib.pyplot as plt\n",
    "import pandas as pd\n",
    "import scipy.stats as sp\n",
    "import math\n",
    "from helper import preprocess_data\n",
    "\n",
    "def readData(filename) :\n",
    "    data = pd.read_csv(filename, skipinitialspace=True,header=None)\n",
    "    return [d for d in data.itertuples(index=False, name=None)]"
   ]
  },
  {
   "cell_type": "code",
   "execution_count": 7,
   "metadata": {},
   "outputs": [],
   "source": [
    "data_cat= readData(\"hw4_cat.txt\")\n",
    "mtx_cat = np.reshape(data_cat, (64,500))\n",
    "\n",
    "data_grass = readData(\"hw4_grass.txt\")\n",
    "mtx_grass = np.reshape(data_grass, (64,500))\n",
    "\n",
    "T = np.concatenate((mtx_cat,mtx_grass),axis=1)\n",
    "T = np.matrix(T)\n",
    "\n",
    "Y = plt.imread(\"cat_grass.png\")\n",
    "Y = preprocess_data(Y)\n",
    "Y = np.matrix(Y)\n"
   ]
  },
  {
   "cell_type": "code",
   "execution_count": 52,
   "metadata": {},
   "outputs": [
    {
     "name": "stdout",
     "output_type": "stream",
     "text": [
      "AxesImage(54,36;334.8x217.44)\n"
     ]
    },
    {
     "data": {
      "image/png": "[encoded data removed]",
      "text/plain": [
       "<Figure size 432x288 with 1 Axes>"
      ]
     },
     "metadata": {
      "needs_background": "light"
     },
     "output_type": "display_data"
    }
   ],
   "source": [
    "output = []\n",
    "for i in range(187500):\n",
    "    yk = Y[:,i]\n",
    "    yk = np.reshape(yk,(len(yk),1))\n",
    "    yk = np.matrix(yk)\n",
    "    \n",
    "    D = T - yk\n",
    "    D2 = np.power(D, 2)\n",
    "    dists = np.sum(D2, 0)\n",
    "    sorted_dists = np.argsort(dists)\n",
    "    \n",
    "    cat = 0\n",
    "    grass = 0\n",
    "    for k in range(0,5):\n",
    "        if sorted_dists[:,k] <= 500:\n",
    "            cat = cat + 1\n",
    "        else:\n",
    "            grass = grass + 1\n",
    "        k = k + 1\n",
    "        \n",
    "    if cat > grass:\n",
    "        output.append(1)\n",
    "    else:\n",
    "        output.append(0)\n",
    "        \n",
    "output = np.reshape(output,(375,500))\n",
    "print(plt.imshow(output))\n",
    "plt.imsave(\"hw4_02.png\", output, format = \"png\")    \n",
    "    "
   ]
  }
 ],
 "metadata": {
  "kernelspec": {
   "display_name": "Python 3",
   "language": "python",
   "name": "python3"
  },
  "language_info": {
   "codemirror_mode": {
    "name": "ipython",
    "version": 3
   },
   "file_extension": ".py",
   "mimetype": "text/x-python",
   "name": "python",
   "nbconvert_exporter": "python",
   "pygments_lexer": "ipython3",
   "version": "3.7.4"
  }
 },
 "nbformat": 4,
 "nbformat_minor": 2
}
